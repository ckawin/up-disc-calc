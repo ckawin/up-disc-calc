{
  "nbformat": 4,
  "nbformat_minor": 0,
  "metadata": {
    "colab": {
      "provenance": [],
      "authorship_tag": "ABX9TyO33UhmQ4Nfv+Hsz9pFAhs4",
      "include_colab_link": true
    },
    "kernelspec": {
      "name": "python3",
      "display_name": "Python 3"
    },
    "language_info": {
      "name": "python"
    }
  },
  "cells": [
    {
      "cell_type": "markdown",
      "metadata": {
        "id": "view-in-github",
        "colab_type": "text"
      },
      "source": [
        "<a href=\"https://colab.research.google.com/github/ckawin/up-disc-calc/blob/main/UP_DISC_Calc.ipynb\" target=\"_parent\"><img src=\"https://colab.research.google.com/assets/colab-badge.svg\" alt=\"Open In Colab\"/></a>"
      ]
    },
    {
      "cell_type": "code",
      "execution_count": 4,
      "metadata": {
        "colab": {
          "base_uri": "https://localhost:8080/",
          "height": 688
        },
        "id": "VwjtJQKHoM8F",
        "outputId": "d62f8419-e3c0-434d-8661-0c10a9fbe1e3"
      },
      "outputs": [
        {
          "output_type": "stream",
          "name": "stdout",
          "text": [
            "กรุณาตอบคำถามต่อไปนี้ด้วยการกด 1 สำหรับ ใช่ หรือ 0 สำหรับ ไม่ใช่:\n",
            "มักจะเป็นคนที่เข้ามาแสดงความคิดเห็นหรือเป็นผู้นำในกลุ่มเสมอ (1=ใช่, 0=ไม่ใช่): 0\n",
            "มีความกล้าในการตัดสินใจหรือพร้อมเผชิญหน้ากับปัญหาที่ท้าทายใหม่ ๆ (1=ใช่, 0=ไม่ใช่): 1\n",
            "แสดงความกระตือรือร้นและความมุ่งมั่นในการทำให้เป้าหมายใหญ่ ๆ (1=ใช่, 0=ไม่ใช่): 1\n",
            "มีมนุษยสัมพันธ์ดี สามารถเข้ากับคนอื่นได้ง่ายและมีบทสนทนาที่สนุกสนาน (1=ใช่, 0=ไม่ใช่): 1\n",
            "ชอบอยู่ในกลุ่มและมีท่าทีที่เป็นกันเอง รวมถึงสร้างบรรยากาศให้คนรอบข้างรู้สึกดี (1=ใช่, 0=ไม่ใช่): 1\n",
            "แสดงออกถึงความสุขเมื่อได้รับการยอมรับหรือคำชมเชยจากคนอื่น (1=ใช่, 0=ไม่ใช่): 0\n",
            "เป็นคนที่มีความอดทนและทำงานอย่างสม่ำเสมอ (1=ใช่, 0=ไม่ใช่): 1\n",
            "แสดงออกถึงความใส่ใจในการช่วยเหลือและสนับสนุนเพื่อนร่วมทีมโดยไม่คาดหวังสิ่งตอบแทน (1=ใช่, 0=ไม่ใช่): 1\n",
            "เป็นคนที่ชอบทำงานในสิ่งที่คุ้นเคยหรือยึดมั่นในวิธีการทำงานแบบเดิม ๆ มากกว่าที่จะเปลี่ยนแปลง (1=ใช่, 0=ไม่ใช่): 1\n",
            "มักจะถามคำถามเจาะลึกและชอบที่จะขอข้อมูลเพิ่มเติมก่อนตัดสินใจ (1=ใช่, 0=ไม่ใช่): 0\n",
            "มีลักษณะการทำงานที่เป็นระเบียบแบบแผนและใส่ใจรายละเอียดในสิ่งที่ทำ (1=ใช่, 0=ไม่ใช่): 1\n",
            "แสดงออกถึงความรอบคอบและชอบทำสิ่งต่าง ๆ ให้สมบูรณ์แบบ (1=ใช่, 0=ไม่ใช่): 0\n",
            "\n",
            "จากแบบสอบถามนี้ คุณมีแนวโน้มเป็นคน Type: Mixed Type\n"
          ]
        },
        {
          "output_type": "display_data",
          "data": {
            "text/plain": [
              "<Figure size 640x480 with 1 Axes>"
            ],
            "image/png": "[encoded data removed]"
          },
          "metadata": {}
        }
      ],
      "source": [
        "import matplotlib.pyplot as plt\n",
        "\n",
        "# คำถามและประเภทของแต่ละคำถาม\n",
        "questions = [\n",
        "    (\"มักจะเป็นคนที่เข้ามาแสดงความคิดเห็นหรือเป็นผู้นำในกลุ่มเสมอ\", \"D\"),\n",
        "    (\"มีความกล้าในการตัดสินใจหรือพร้อมเผชิญหน้ากับปัญหาที่ท้าทายใหม่ ๆ\", \"D\"),\n",
        "    (\"แสดงความกระตือรือร้นและความมุ่งมั่นในการทำให้เป้าหมายใหญ่ ๆ\", \"D\"),\n",
        "    (\"มีมนุษยสัมพันธ์ดี สามารถเข้ากับคนอื่นได้ง่ายและมีบทสนทนาที่สนุกสนาน\", \"I\"),\n",
        "    (\"ชอบอยู่ในกลุ่มและมีท่าทีที่เป็นกันเอง รวมถึงสร้างบรรยากาศให้คนรอบข้างรู้สึกดี\", \"I\"),\n",
        "    (\"แสดงออกถึงความสุขเมื่อได้รับการยอมรับหรือคำชมเชยจากคนอื่น\", \"I\"),\n",
        "    (\"เป็นคนที่มีความอดทนและทำงานอย่างสม่ำเสมอ\", \"S\"),\n",
        "    (\"แสดงออกถึงความใส่ใจในการช่วยเหลือและสนับสนุนเพื่อนร่วมทีมโดยไม่คาดหวังสิ่งตอบแทน\", \"S\"),\n",
        "    (\"เป็นคนที่ชอบทำงานในสิ่งที่คุ้นเคยหรือยึดมั่นในวิธีการทำงานแบบเดิม ๆ มากกว่าที่จะเปลี่ยนแปลง\", \"S\"),\n",
        "    (\"มักจะถามคำถามเจาะลึกและชอบที่จะขอข้อมูลเพิ่มเติมก่อนตัดสินใจ\", \"C\"),\n",
        "    (\"มีลักษณะการทำงานที่เป็นระเบียบแบบแผนและใส่ใจรายละเอียดในสิ่งที่ทำ\", \"C\"),\n",
        "    (\"แสดงออกถึงความรอบคอบและชอบทำสิ่งต่าง ๆ ให้สมบูรณ์แบบ\", \"C\"),\n",
        "]\n",
        "\n",
        "# ฟังก์ชันทำแบบสอบถาม\n",
        "def survey():\n",
        "    scores = {\"D\": 0, \"I\": 0, \"S\": 0, \"C\": 0}\n",
        "    counts = {\"D\": 0, \"I\": 0, \"S\": 0, \"C\": 0}\n",
        "\n",
        "    print(\"กรุณาตอบคำถามต่อไปนี้ด้วยการกด 1 สำหรับ ใช่ หรือ 0 สำหรับ ไม่ใช่:\")\n",
        "    for question, question_type in questions:\n",
        "        while True:\n",
        "            try:\n",
        "                answer = int(input(f\"{question} (1=ใช่, 0=ไม่ใช่): \"))\n",
        "                if answer in [0, 1]:\n",
        "                    scores[question_type] += answer\n",
        "                    counts[question_type] += 1\n",
        "                    break\n",
        "                else:\n",
        "                    print(\"กรุณาเลือกเฉพาะ 1 หรือ 0\")\n",
        "            except ValueError:\n",
        "                print(\"กรุณาใส่เฉพาะตัวเลข 1 หรือ 0\")\n",
        "\n",
        "    # คำนวณคะแนนเฉลี่ยสำหรับแต่ละ Type\n",
        "    avg_scores = {t: scores[t] / counts[t] for t in scores}\n",
        "\n",
        "    # วิเคราะห์ลักษณะบุคคลโดยใช้การเปรียบเทียบกับ Type ข้างเคียงและตรงข้าม\n",
        "    dominant_type = determine_type(avg_scores)\n",
        "    print(\"\\nจากแบบสอบถามนี้ คุณมีแนวโน้มเป็นคน Type:\", dominant_type)\n",
        "\n",
        "    # แสดงกราฟฟิก DISC\n",
        "    display_disc_chart(avg_scores)\n",
        "\n",
        "# ฟังก์ชันสำหรับกำหนดประเภทจากคะแนนเฉลี่ย\n",
        "def determine_type(avg_scores):\n",
        "    dominant_type = max(avg_scores, key=avg_scores.get)\n",
        "    side_types = {\n",
        "        \"D\": [\"C\", \"I\"],\n",
        "        \"I\": [\"D\", \"S\"],\n",
        "        \"S\": [\"I\", \"C\"],\n",
        "        \"C\": [\"S\", \"D\"]\n",
        "    }\n",
        "    opposite_types = {\n",
        "        \"D\": \"S\",\n",
        "        \"I\": \"C\",\n",
        "        \"S\": \"D\",\n",
        "        \"C\": \"I\"\n",
        "    }\n",
        "\n",
        "    # ตรวจสอบว่าคะแนนของประเภทข้างเคียงและตรงข้ามเป็นไปตามเงื่อนไข\n",
        "    if any(avg_scores[side] >= 0.5 * avg_scores[dominant_type] for side in side_types[dominant_type]) and \\\n",
        "       avg_scores[opposite_types[dominant_type]] <= 0.5 * avg_scores[dominant_type]:\n",
        "        return dominant_type\n",
        "    return \"Mixed Type\"\n",
        "\n",
        "# ฟังก์ชันสำหรับการแสดงผลแบบตาราง DISC\n",
        "def display_disc_chart(avg_scores):\n",
        "    fig, ax = plt.subplots()\n",
        "    ax.axis('off')\n",
        "\n",
        "    # ตำแหน่งและสีของแต่ละ Type\n",
        "    positions = {\n",
        "        \"C\": (0.5, 1.5),  # บนซ้าย\n",
        "        \"D\": (1.5, 1.5),  # บนขวา\n",
        "        \"I\": (1.5, 0.5),  # ล่างขวา\n",
        "        \"S\": (0.5, 0.5)   # ล่างซ้าย\n",
        "    }\n",
        "    colors = {\n",
        "        \"C\": \"lightgreen\",\n",
        "        \"D\": \"lightcoral\",\n",
        "        \"I\": \"skyblue\",\n",
        "        \"S\": \"lightyellow\"\n",
        "    }\n",
        "\n",
        "    # วนแสดงผลแต่ละ Type\n",
        "    for t, pos in positions.items():\n",
        "        ax.text(pos[0], pos[1], f\"{t}\\nScore: {avg_scores[t]:.2f}\", ha='center', va='center',\n",
        "                fontsize=12, bbox=dict(facecolor=colors[t], edgecolor='black', boxstyle='round,pad=0.3'))\n",
        "\n",
        "    # ปรับขนาดและแสดงกราฟฟิก\n",
        "    plt.xlim(0, 2)\n",
        "    plt.ylim(0, 2)\n",
        "    plt.title(\"DISC Personality Types\")\n",
        "    plt.show()\n",
        "\n",
        "# เรียกใช้งานฟังก์ชัน survey\n",
        "survey()\n"
      ]
    },
    {
      "cell_type": "markdown",
      "source": [
        "# New Section"
      ],
      "metadata": {
        "id": "NqM5BAVzPEZi"
      }
    },
    {
      "cell_type": "code",
      "source": [],
      "metadata": {
        "id": "ke7GTQXAPFXY"
      },
      "execution_count": null,
      "outputs": []
    }
  ]
}